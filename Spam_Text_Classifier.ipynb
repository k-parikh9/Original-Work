{
  "nbformat": 4,
  "nbformat_minor": 0,
  "metadata": {
    "colab": {
      "provenance": [],
      "authorship_tag": "ABX9TyP+OjH8tIx/ucykVlGFVG3e",
      "include_colab_link": true
    },
    "kernelspec": {
      "name": "python3",
      "display_name": "Python 3"
    },
    "language_info": {
      "name": "python"
    }
  },
  "cells": [
    {
      "cell_type": "markdown",
      "metadata": {
        "id": "view-in-github",
        "colab_type": "text"
      },
      "source": [
        "<a href=\"https://colab.research.google.com/github/k-parikh9/Original-Work/blob/main/Spam_Text_Classifier.ipynb\" target=\"_parent\"><img src=\"https://colab.research.google.com/assets/colab-badge.svg\" alt=\"Open In Colab\"/></a>"
      ]
    },
    {
      "cell_type": "code",
      "execution_count": 16,
      "metadata": {
        "colab": {
          "base_uri": "https://localhost:8080/"
        },
        "id": "U2zHbjyKa4xJ",
        "outputId": "5c476f17-f522-4e36-a790-2532b0cd0480"
      },
      "outputs": [
        {
          "output_type": "stream",
          "name": "stdout",
          "text": [
            "Support Vector Machine\n",
            "Average accuracy: 0.9302931596091206\n",
            "Average precision: 0.9253516815402779\n",
            "Average recall: 0.8945518789379451\n",
            "\n",
            "Gaussian Naive Bayes\n",
            "Average accuracy: 0.8230184581976113\n",
            "Average precision: 0.7056195119156574\n",
            "Average recall: 0.9576617798968405\n",
            "\n",
            "Random Forest Classifier\n",
            "Average accuracy: 0.9520086862106405\n",
            "Average precision: 0.9523347526522283\n",
            "Average recall: 0.9258057040912175\n"
          ]
        }
      ],
      "source": [
        "import numpy as np\n",
        "import pandas as pd\n",
        "from sklearn.model_selection import train_test_split\n",
        "from sklearn.preprocessing import StandardScaler\n",
        "from sklearn.metrics import accuracy_score\n",
        "from sklearn.metrics import precision_score\n",
        "from sklearn.metrics import recall_score\n",
        "from sklearn.svm import SVC\n",
        "from sklearn.naive_bayes import GaussianNB\n",
        "from sklearn.ensemble import RandomForestClassifier\n",
        "import seaborn as sns\n",
        "\n",
        "\n",
        "# Loading data from csv file\n",
        "email_data = pd.read_csv('Spam.csv')\n",
        "\n",
        "# Renaming columns\n",
        "email_data.columns = [\"word_freq_make\", \"word_freq_address\", \"word_freq_all\", \"word_freq_3d\", \n",
        "                      \"word_freq_our\", \"word_freq_over\", \"word_freq_remove\", \"word_freq_internet\", \n",
        "                      \"word_freq_order\", \"word_freq_mail\", \"word_freq_receive\", \"word_freq_will\", \n",
        "                      \"word_freq_people\", \"word_freq_report\", \"word_freq_addresses\", \"word_freq_free\", \n",
        "                      \"word_freq_business\", \"word_freq_email\", \"word_freq_you\", \"word_freq_credit\", \n",
        "                      \"word_freq_your\", \"word_freq_font\", \"word_freq_000\", \"word_freq_money\", \"word_freq_hp\", \n",
        "                      \"word_freq_hpl\", \"word_freq_george\", \"word_freq_650\", \"word_freq_lab\", \"word_freq_labs\", \n",
        "                      \"word_freq_telnet\", \"word_freq_857\", \"word_freq_data\", \"word_freq_415\", \"word_freq_85\", \n",
        "                      \"word_freq_technology\", \"word_freq_1999\", \"word_freq_parts\", \"word_freq_pm\", \"word_freq_direct\",\n",
        "                      \"word_freq_cs\", \"word_freq_meeting\", \"word_freq_original\", \"word_freq_project\", \"word_freq_re\", \n",
        "                      \"word_freq_edu\", \"word_freq_table\", \"word_freq_conference\", \"char_freq_;\", \"char_freq_(\", \n",
        "                      \"char_freq_[\", \"char_freq_!\", \"char_freq_$\", \"char_freq_hash\", \"capital_run_length_average\", \n",
        "                      \"capital_run_length_longest\", \"capital_run_length_total\", \"spam\"]\n",
        "\n",
        "\n",
        "# Key stats of all columns pre-scaling\n",
        "email_data.describe()\n",
        "\n",
        "# Scaling data\n",
        "scalar = StandardScaler()\n",
        "X = scalar.fit_transform(email_data.iloc[:, :-1])\n",
        "\n",
        "# Method to run supplied model for n times\n",
        "def runModel(mod, num = 10):\n",
        "\n",
        "  num_tests = num\n",
        "  accuracy_values = []\n",
        "  precision_values = []\n",
        "  recall_values = []\n",
        "  for i in range(num_tests):\n",
        "    # Splitting into training and testing data\n",
        "    X_train, X_test, y_train, y_test = train_test_split(X, email_data.iloc[:, -1], test_size=0.2, random_state=None)\n",
        "\n",
        "    # Instantiating, training, and testing SVC model\n",
        "    model = mod\n",
        "    model.fit(X_train, y_train)\n",
        "    y_pred = model.predict(X_test)\n",
        "\n",
        "    # Calculating and storing accuracy measures\n",
        "    accuracy_values.append(accuracy_score(y_test, y_pred))\n",
        "    precision_values.append(precision_score(y_test, y_pred))\n",
        "    recall_values.append(recall_score(y_test, y_pred))\n",
        "\n",
        "  avg_accuracy = sum(accuracy_values) / len(accuracy_values)\n",
        "  avg_precision = sum(precision_values) / len(precision_values)\n",
        "  avg_recall = sum(recall_values) / len(recall_values)\n",
        "  print(f'Average accuracy: {avg_accuracy}')\n",
        "  print(f'Average precision: {avg_precision}')\n",
        "  print(f'Average recall: {avg_recall}')\n",
        "\n",
        "# Running models\n",
        "print('Support Vector Machine')\n",
        "runModel(SVC())\n",
        "print('\\nGaussian Naive Bayes')\n",
        "runModel(GaussianNB())\n",
        "print('\\nRandom Forest Classifier')\n",
        "runModel(RandomForestClassifier())\n",
        "\n",
        "\n",
        "\n",
        "\n"
      ]
    }
  ]
}